{
 "cells": [
  {
   "cell_type": "code",
   "execution_count": 1,
   "id": "de301693",
   "metadata": {},
   "outputs": [
    {
     "name": "stdout",
     "output_type": "stream",
     "text": [
      "Probability Distribution Algorithm by Somu from Team ⚔ Spartans ⚔️\n",
      "\n",
      "Find Probability of Any Distance..\n",
      "Enter mean: 711\n",
      "Enter Standrad Deviation: 29\n",
      "Distance to find probability: 682 <= x <= 740\n",
      "\n",
      "*********************************************\n",
      "\n",
      " Probability for 682 <= x <= 740 : 68.27 % \n",
      "\n",
      "*********************************************\n"
     ]
    }
   ],
   "source": [
    "# Maintain space between values and greater,lesserr symbols..\n",
    "# Input format(example): (682 <= x <= 740) .   Not like this -> (682<=x<=740)\n",
    "# Input format(example): (x <= 680)      Not like this -> (x<=680) \n",
    "\n",
    "# Sample input 1:\n",
    "#   Enter mean: 711\n",
    "#   Enter Standrad Deviation: 29\n",
    "#   Distance to find probability: 682 <= x <= 740 \n",
    "\n",
    "# Sample input 2:\n",
    "#   Enter mean: 529\n",
    "#   Enter Standrad Deviation: 15\n",
    "#   Distance to find probability: x = 510\n",
    "\n",
    "from statistics import NormalDist\n",
    "print(\"Probability Distribution Algorithm by Somu from Team ⚔ Spartans ⚔️\")\n",
    "print()\n",
    "print(\"Find Probability of Any Distance..\")\n",
    "mean = float(input(\"Enter mean: \"))\n",
    "sd = float(input(\"Enter Standrad Deviation: \"))\n",
    "dist = input(\"Distance to find probability: \")\n",
    "dist = dist.split(' ')\n",
    "nd = NormalDist(mu = mean, sigma= sd)\n",
    "print()\n",
    "print(\"*\"*45)\n",
    "print()\n",
    "if(len(dist)==5 and dist[1][0]==\"<\" and dist[3][0]==\"<\"):\n",
    "    print(\" Probability for\",*dist,\":\",round((nd.cdf(float(dist[4])) - nd.cdf(float(dist[0])))*100,2),\"% \")\n",
    "elif(len(dist)==3):    \n",
    "    if(dist[1][0]==\"<\"):\n",
    "        print(\" Probability for\",*dist,\":\",round(nd.cdf(float(dist[-1]))*100,2),\"% \")    \n",
    "    elif(dist[1][0]==\">\"):\n",
    "        print(\" Probability for\",*dist,\":\",round(100 - round(nd.cdf(float(dist[-1]))*100,2),2),'% ')\n",
    "    elif(dist[1]==\"=\" ):\n",
    "        print(7*\" \",\"Probability for\",*dist,\":\",0,\"%\")\n",
    "    else:\n",
    "        print(\"Invalid\") \n",
    "elif(len(dist)==1 and dist[0].isnumeric()):\n",
    "    print(7*\" \",\"Probability for\",*dist,\":\",0,\"%\")\n",
    "else:\n",
    "    print(\"Invalid\")\n",
    "print()    \n",
    "print(\"*\"*45)    "
   ]
  },
  {
   "cell_type": "code",
   "execution_count": null,
   "id": "97d65099",
   "metadata": {},
   "outputs": [],
   "source": []
  }
 ],
 "metadata": {
  "kernelspec": {
   "display_name": "Python 3 (ipykernel)",
   "language": "python",
   "name": "python3"
  },
  "language_info": {
   "codemirror_mode": {
    "name": "ipython",
    "version": 3
   },
   "file_extension": ".py",
   "mimetype": "text/x-python",
   "name": "python",
   "nbconvert_exporter": "python",
   "pygments_lexer": "ipython3",
   "version": "3.9.7"
  }
 },
 "nbformat": 4,
 "nbformat_minor": 5
}
